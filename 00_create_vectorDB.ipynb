{
 "cells": [
  {
   "cell_type": "code",
   "execution_count": 2,
   "id": "60fafa9e",
   "metadata": {},
   "outputs": [
    {
     "name": "stdout",
     "output_type": "stream",
     "text": [
      "Requirement already satisfied: weaviate-client in /usr/local/python/3.12.1/lib/python3.12/site-packages (4.16.9)\n",
      "Requirement already satisfied: httpx<0.29.0,>=0.26.0 in /home/codespace/.local/lib/python3.12/site-packages (from weaviate-client) (0.28.1)\n",
      "Requirement already satisfied: validators<1.0.0,>=0.34.0 in /usr/local/python/3.12.1/lib/python3.12/site-packages (from weaviate-client) (0.35.0)\n",
      "Requirement already satisfied: authlib<2.0.0,>=1.2.1 in /usr/local/python/3.12.1/lib/python3.12/site-packages (from weaviate-client) (1.6.1)\n",
      "Requirement already satisfied: pydantic<3.0.0,>=2.8.0 in /usr/local/python/3.12.1/lib/python3.12/site-packages (from weaviate-client) (2.9.2)\n",
      "Requirement already satisfied: grpcio<1.80.0,>=1.59.5 in /usr/local/python/3.12.1/lib/python3.12/site-packages (from weaviate-client) (1.74.0)\n",
      "Requirement already satisfied: protobuf<7.0.0,>=4.21.6 in /usr/local/python/3.12.1/lib/python3.12/site-packages (from weaviate-client) (5.29.5)\n",
      "Requirement already satisfied: deprecation<3.0.0,>=2.1.0 in /usr/local/python/3.12.1/lib/python3.12/site-packages (from weaviate-client) (2.1.0)\n",
      "Requirement already satisfied: cryptography in /usr/local/python/3.12.1/lib/python3.12/site-packages (from authlib<2.0.0,>=1.2.1->weaviate-client) (45.0.6)\n",
      "Requirement already satisfied: packaging in /home/codespace/.local/lib/python3.12/site-packages (from deprecation<3.0.0,>=2.1.0->weaviate-client) (25.0)\n",
      "Requirement already satisfied: anyio in /home/codespace/.local/lib/python3.12/site-packages (from httpx<0.29.0,>=0.26.0->weaviate-client) (4.9.0)\n",
      "Requirement already satisfied: certifi in /home/codespace/.local/lib/python3.12/site-packages (from httpx<0.29.0,>=0.26.0->weaviate-client) (2025.7.9)\n",
      "Requirement already satisfied: httpcore==1.* in /home/codespace/.local/lib/python3.12/site-packages (from httpx<0.29.0,>=0.26.0->weaviate-client) (1.0.9)\n",
      "Requirement already satisfied: idna in /home/codespace/.local/lib/python3.12/site-packages (from httpx<0.29.0,>=0.26.0->weaviate-client) (3.10)\n",
      "Requirement already satisfied: h11>=0.16 in /home/codespace/.local/lib/python3.12/site-packages (from httpcore==1.*->httpx<0.29.0,>=0.26.0->weaviate-client) (0.16.0)\n",
      "Requirement already satisfied: annotated-types>=0.6.0 in /usr/local/python/3.12.1/lib/python3.12/site-packages (from pydantic<3.0.0,>=2.8.0->weaviate-client) (0.7.0)\n",
      "Requirement already satisfied: pydantic-core==2.23.4 in /usr/local/python/3.12.1/lib/python3.12/site-packages (from pydantic<3.0.0,>=2.8.0->weaviate-client) (2.23.4)\n",
      "Requirement already satisfied: typing-extensions>=4.6.1 in /home/codespace/.local/lib/python3.12/site-packages (from pydantic<3.0.0,>=2.8.0->weaviate-client) (4.14.1)\n",
      "Requirement already satisfied: sniffio>=1.1 in /home/codespace/.local/lib/python3.12/site-packages (from anyio->httpx<0.29.0,>=0.26.0->weaviate-client) (1.3.1)\n",
      "Requirement already satisfied: cffi>=1.14 in /home/codespace/.local/lib/python3.12/site-packages (from cryptography->authlib<2.0.0,>=1.2.1->weaviate-client) (1.17.1)\n",
      "Requirement already satisfied: pycparser in /home/codespace/.local/lib/python3.12/site-packages (from cffi>=1.14->cryptography->authlib<2.0.0,>=1.2.1->weaviate-client) (2.22)\n",
      "\n",
      "\u001b[1m[\u001b[0m\u001b[34;49mnotice\u001b[0m\u001b[1;39;49m]\u001b[0m\u001b[39;49m A new release of pip is available: \u001b[0m\u001b[31;49m25.1.1\u001b[0m\u001b[39;49m -> \u001b[0m\u001b[32;49m25.2\u001b[0m\n",
      "\u001b[1m[\u001b[0m\u001b[34;49mnotice\u001b[0m\u001b[1;39;49m]\u001b[0m\u001b[39;49m To update, run: \u001b[0m\u001b[32;49mpython -m pip install --upgrade pip\u001b[0m\n",
      "Note: you may need to restart the kernel to use updated packages.\n"
     ]
    }
   ],
   "source": [
    "%pip install weaviate-client"
   ]
  },
  {
   "cell_type": "code",
   "execution_count": 3,
   "id": "30714089",
   "metadata": {},
   "outputs": [],
   "source": [
    "import weaviate\n",
    "import weaviate.classes.config as wc\n",
    "import os\n",
    "from dotenv import load_dotenv\n",
    "from weaviate.classes.config import Property, DataType, ReferenceProperty, Configure, VectorDistances"
   ]
  },
  {
   "cell_type": "code",
   "execution_count": 4,
   "id": "d805e89d",
   "metadata": {},
   "outputs": [
    {
     "data": {
      "text/plain": [
       "True"
      ]
     },
     "execution_count": 4,
     "metadata": {},
     "output_type": "execute_result"
    }
   ],
   "source": [
    "load_dotenv()"
   ]
  },
  {
   "cell_type": "code",
   "execution_count": 5,
   "id": "9c8fc297",
   "metadata": {},
   "outputs": [
    {
     "name": "stdout",
     "output_type": "stream",
     "text": [
      "True\n"
     ]
    }
   ],
   "source": [
    "client = weaviate.connect_to_weaviate_cloud(\n",
    "    cluster_url=os.getenv(\"WEAVIATE_URL\"),\n",
    "    auth_credentials=weaviate.auth.AuthApiKey(os.getenv(\"WEAVIATE_API_KEY\")),\n",
    ")\n",
    "print(client.is_ready())"
   ]
  },
  {
   "cell_type": "markdown",
   "id": "9eb4fa8b",
   "metadata": {},
   "source": [
    "# Create Candidate collection"
   ]
  },
  {
   "cell_type": "code",
   "execution_count": null,
   "id": "a1fd0fd9",
   "metadata": {},
   "outputs": [
    {
     "data": {
      "text/plain": [
       "<weaviate.collections.collection.sync.Collection at 0x701c59a84b90>"
      ]
     },
     "execution_count": 8,
     "metadata": {},
     "output_type": "execute_result"
    }
   ],
   "source": [
    "# --- Create the collection ---\n",
    "client.collections.create(\n",
    "    name=\"Candidate\",\n",
    "    properties=[\n",
    "        wc.Property(name=\"candidate_id\", data_type=wc.DataType.TEXT, index_filterable=True, index_searchable=True),\n",
    "        wc.Property(name=\"name\", data_type=wc.DataType.TEXT, index_searchable=True),\n",
    "        wc.Property(name=\"email\", data_type=wc.DataType.TEXT, index_searchable=True, index_filterable=True),\n",
    "        wc.Property(name=\"age\", data_type=wc.DataType.INT, index_range_filters=True),\n",
    "        wc.Property(name=\"skills\", data_type=wc.DataType.TEXT_ARRAY,\n",
    "                    index_searchable=True, index_filterable=True),\n",
    "        wc.Property(name=\"social_links\", data_type=wc.DataType.TEXT_ARRAY, index_searchable=True),\n",
    "        wc.Property(name=\"years_of_experience\", data_type=wc.DataType.NUMBER, index_range_filters=True),\n",
    "        wc.Property(name=\"highest_education\", data_type=wc.DataType.TEXT, index_searchable=True),\n",
    "        wc.Property(name=\"current_role\", data_type=wc.DataType.TEXT, index_searchable=True),\n",
    "        wc.Property(name=\"function\", data_type=wc.DataType.TEXT),\n",
    "        wc.Property(name=\"resume_summary\", data_type=wc.DataType.TEXT, index_searchable=True),\n",
    "        wc.Property(name=\"job_id\", data_type=wc.DataType.TEXT, index_filterable=True),\n",
    "\n",
    "        # --- Nested list of Education objects ---\n",
    "        wc.Property(\n",
    "            name=\"education\",\n",
    "            data_type=wc.DataType.OBJECT_ARRAY,\n",
    "            nested_properties=[\n",
    "                wc.Property(name=\"institution\", data_type=wc.DataType.TEXT, index_searchable=True),\n",
    "                wc.Property(name=\"qualification\", data_type=wc.DataType.TEXT, index_searchable=True),\n",
    "                wc.Property(name=\"graduation_date\", data_type=wc.DataType.DATE),\n",
    "                wc.Property(name=\"details\", data_type=wc.DataType.TEXT_ARRAY, index_searchable=True),\n",
    "            ],\n",
    "        ),\n",
    "\n",
    "        # --- Nested list of Experience objects ---\n",
    "        wc.Property(\n",
    "            name=\"experience\",\n",
    "            data_type=wc.DataType.OBJECT_ARRAY,\n",
    "            nested_properties=[\n",
    "                wc.Property(name=\"company\", data_type=wc.DataType.TEXT),\n",
    "                wc.Property(name=\"location\", data_type=wc.DataType.TEXT),\n",
    "                wc.Property(name=\"role\", data_type=wc.DataType.TEXT, index_searchable=True),\n",
    "                wc.Property(name=\"start_date\", data_type=wc.DataType.DATE),\n",
    "                wc.Property(name=\"end_date\", data_type=wc.DataType.DATE),\n",
    "                wc.Property(name=\"responsibilities\", data_type=wc.DataType.TEXT_ARRAY, index_searchable=True),\n",
    "            ],\n",
    "        ),\n",
    "\n",
    "        # --- Nested list of Project objects ---\n",
    "        wc.Property(\n",
    "            name=\"projects\",\n",
    "            data_type=wc.DataType.OBJECT_ARRAY,\n",
    "            nested_properties=[\n",
    "                wc.Property(name=\"name\", data_type=wc.DataType.TEXT, index_searchable=True),\n",
    "                wc.Property(name=\"description\", data_type=wc.DataType.TEXT, index_searchable=True),\n",
    "            ],\n",
    "        ),\n",
    "    ],\n",
    "\n",
    "    # We'll provide our own (single) vector per object (the resume summary embedding)\n",
    "    vector_config=wc.Configure.Vectors.self_provided(\n",
    "        vector_index_config=Configure.VectorIndex.hnsw(\n",
    "            distance_metric=VectorDistances.COSINE\n",
    "        )\n",
    "    )\n",
    ")"
   ]
  },
  {
   "cell_type": "markdown",
   "id": "192f855a",
   "metadata": {},
   "source": [
    "# Create Job collection"
   ]
  },
  {
   "cell_type": "code",
   "execution_count": 9,
   "id": "b7d45b28",
   "metadata": {},
   "outputs": [
    {
     "data": {
      "text/plain": [
       "<weaviate.collections.collection.sync.Collection at 0x701c59c4fbf0>"
      ]
     },
     "execution_count": 9,
     "metadata": {},
     "output_type": "execute_result"
    }
   ],
   "source": [
    "# --- Create the collection ---\n",
    "client.collections.create(\n",
    "    name=\"Job\",\n",
    "    properties=[\n",
    "        wc.Property(name=\"name\", data_type=wc.DataType.TEXT, index_searchable=True),\n",
    "        wc.Property(name=\"job_id\", data_type=wc.DataType.TEXT, index_filterable=True, index_searchable=True),\n",
    "        wc.Property(name=\"job_description\", data_type=wc.DataType.TEXT, index_searchable=True),\n",
    "        wc.Property(name=\"job_creation_date\", data_type=wc.DataType.DATE),\n",
    "    ],\n",
    "\n",
    "    # We'll provide our own (single) vector per object (the resume summary embedding)\n",
    "    vector_config=wc.Configure.Vectors.self_provided(\n",
    "        vector_index_config=Configure.VectorIndex.hnsw(\n",
    "            distance_metric=VectorDistances.COSINE\n",
    "        )\n",
    "    )\n",
    ")"
   ]
  },
  {
   "cell_type": "code",
   "execution_count": 7,
   "id": "64c815de",
   "metadata": {},
   "outputs": [],
   "source": [
    "# To delete collection\n",
    "client.collections.delete('Job')"
   ]
  }
 ],
 "metadata": {
  "kernelspec": {
   "display_name": "Python 3",
   "language": "python",
   "name": "python3"
  },
  "language_info": {
   "codemirror_mode": {
    "name": "ipython",
    "version": 3
   },
   "file_extension": ".py",
   "mimetype": "text/x-python",
   "name": "python",
   "nbconvert_exporter": "python",
   "pygments_lexer": "ipython3",
   "version": "3.12.1"
  }
 },
 "nbformat": 4,
 "nbformat_minor": 5
}
